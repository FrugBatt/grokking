{
 "cells": [
  {
   "cell_type": "markdown",
   "id": "d8dce8aa-aae7-4a25-90d8-c0728924b736",
   "metadata": {},
   "source": [
    "# Grokking"
   ]
  },
  {
   "cell_type": "markdown",
   "id": "b056ae03-1fd9-4698-8e57-57d757830efa",
   "metadata": {},
   "source": [
    "This notebook try to reimplement the grokking effect found in the paper arXiv:2201.02177v1. It's not a direct reimplementation since some simplification are made."
   ]
  },
  {
   "cell_type": "markdown",
   "id": "58b2eee0-2397-48c4-b027-49d5a5a2b767",
   "metadata": {},
   "source": [
    "# Imports & device selection"
   ]
  },
  {
   "cell_type": "code",
   "execution_count": 1,
   "id": "8b9955e6-5a54-4f0f-a9ac-783c3c7e7f1f",
   "metadata": {},
   "outputs": [
    {
     "name": "stdout",
     "output_type": "stream",
     "text": [
      "Using CUDA device NVIDIA GeForce GTX 1650 with Max-Q Design\n"
     ]
    }
   ],
   "source": [
    "import torch\n",
    "import torch.nn as nn\n",
    "import matplotlib.pyplot as plt\n",
    "import numpy as np\n",
    "from tqdm import tqdm\n",
    "\n",
    "device = \"cuda\" if torch.cuda.is_available() else \"cpu\"\n",
    "if device == \"cuda\" :\n",
    "    print('Using CUDA device', torch.cuda.get_device_name(0))\n",
    "else :\n",
    "    print('Using CPU')"
   ]
  },
  {
   "cell_type": "markdown",
   "id": "a5c15b5a-d6bf-4d7f-883b-45f40d42153c",
   "metadata": {},
   "source": [
    "# Hyperparameters & operations"
   ]
  },
  {
   "cell_type": "code",
   "execution_count": 2,
   "id": "4d61a7fd-d8e1-47b2-819e-e621652c30ec",
   "metadata": {},
   "outputs": [],
   "source": [
    "p = 97 # Prime number used by the modulo\n",
    "\n",
    "N_EPOCHS = 500\n",
    "BATCH_SIZE = 64\n",
    "TRAINSET_SIZE = 0.7\n",
    "LEARNING_RATE = 3e-4\n",
    "WEIGHT_DECAY = 1"
   ]
  },
  {
   "cell_type": "markdown",
   "id": "fcc545c5-9795-4279-a56f-864d598b719e",
   "metadata": {},
   "source": [
    "We define now every binary operations shown in the paper"
   ]
  },
  {
   "cell_type": "code",
   "execution_count": 3,
   "id": "5ed50e3c-650f-44a7-9b39-a2c3299ce8d5",
   "metadata": {},
   "outputs": [],
   "source": [
    "def op_1(x, y) :\n",
    "    return (x + y) % p\n",
    "\n",
    "def op_2(x, y) :\n",
    "    return (x - y) % p"
   ]
  },
  {
   "cell_type": "code",
   "execution_count": 4,
   "id": "7fc4e5ab-3a5b-46f5-bf08-6e466abe14f5",
   "metadata": {},
   "outputs": [],
   "source": [
    "op = op_1"
   ]
  },
  {
   "cell_type": "markdown",
   "id": "236f5759-0fa5-4998-b82d-a2ffc963fd86",
   "metadata": {},
   "source": [
    "# Model"
   ]
  },
  {
   "cell_type": "markdown",
   "id": "ba489dcd-7775-48de-b401-eca4b30817af",
   "metadata": {},
   "source": [
    "Since we are trying here to replicate the grokking effect, we won't use the same model. Here we only use token for numbers (1-hot vectors) and a feed-forward decoder (while the paper presents a decoder only transformer)."
   ]
  },
  {
   "cell_type": "code",
   "execution_count": 5,
   "id": "8f1763e6-bba5-49cb-b2ef-2dedd83d1865",
   "metadata": {},
   "outputs": [],
   "source": [
    "class GrokkingModel(torch.nn.Module) :\n",
    "    def __init__(self, op=op, emb_dim=128) :\n",
    "        super().__init__()\n",
    "        self.op = op\n",
    "        self.emb1 = nn.Embedding(p, emb_dim)\n",
    "        self.emb2 = nn.Embedding(p, emb_dim)\n",
    "\n",
    "        self.feed = nn.Sequential(nn.Linear(2 * emb_dim, emb_dim), nn.ReLU(), nn.Linear(emb_dim, p))\n",
    "\n",
    "    def forward(self, x, y) :\n",
    "        # dim x = (batch)\n",
    "        x_emb = self.emb1(x)\n",
    "        y_emb = self.emb2(y)\n",
    "\n",
    "        # dim x_emb = (batch, emb_dim)\n",
    "\n",
    "        emb = torch.cat((x_emb, y_emb), dim=1)\n",
    "        return self.feed(emb)"
   ]
  },
  {
   "cell_type": "markdown",
   "id": "c635d9fd-598a-4f45-9b3f-c1b5dfb13bd1",
   "metadata": {},
   "source": [
    "# Experiment"
   ]
  },
  {
   "cell_type": "code",
   "execution_count": 6,
   "id": "890b6c0e-6b80-4436-9ecf-1934d636ac0f",
   "metadata": {},
   "outputs": [],
   "source": [
    "model = GrokkingModel()\n",
    "model.cuda()\n",
    "\n",
    "criterion = nn.CrossEntropyLoss()\n",
    "optimizer = torch.optim.AdamW(model.parameters(), lr=LEARNING_RATE, weight_decay=WEIGHT_DECAY)"
   ]
  },
  {
   "cell_type": "markdown",
   "id": "7dac1397-6038-4b52-98b5-5b2207e11f51",
   "metadata": {},
   "source": [
    "## Dataset creation"
   ]
  },
  {
   "cell_type": "code",
   "execution_count": 7,
   "id": "fbc2dfe9-d94c-43fd-82fd-6d9e0347e61c",
   "metadata": {},
   "outputs": [
    {
     "name": "stdout",
     "output_type": "stream",
     "text": [
      "103\n"
     ]
    }
   ],
   "source": [
    "from sklearn.model_selection import train_test_split\n",
    "\n",
    "x = torch.arange(p, device=device)\n",
    "y = torch.arange(p, device=device)\n",
    "grid_x, grid_y = torch.meshgrid(x, y, indexing='ij')\n",
    "grid_x.unsqueeze_(-1)\n",
    "grid_y.unsqueeze_(-1)\n",
    "\n",
    "dataset_tens = op(grid_x,grid_y)\n",
    "dataset_tens = torch.cat((grid_x, grid_y, dataset_tens), dim=2)\n",
    "dataset_tens = torch.flatten(dataset_tens, end_dim=1)\n",
    "\n",
    "trainset, valset = train_test_split(dataset_tens, train_size=TRAINSET_SIZE, shuffle=True)\n",
    "\n",
    "train_dataset = torch.utils.data.TensorDataset(trainset)\n",
    "val_dataset = torch.utils.data.TensorDataset(valset)\n",
    "\n",
    "train_dataloader = torch.utils.data.DataLoader(train_dataset, batch_size=BATCH_SIZE, shuffle=True)\n",
    "print(len(train_dataloader))"
   ]
  },
  {
   "cell_type": "code",
   "execution_count": 8,
   "id": "41fc346a-d7b4-4379-ac2a-c7128bc5af14",
   "metadata": {},
   "outputs": [],
   "source": [
    "def validation_acc() :\n",
    "    with torch.no_grad() :\n",
    "        x, y, res = valset[:,0], valset[:,1], valset[:,2]\n",
    "        pred = model(x, y)\n",
    "        acc = (pred.argmax(dim=1) == res).type(torch.DoubleTensor).mean().item()\n",
    "        return acc"
   ]
  },
  {
   "cell_type": "markdown",
   "id": "90dbc53e-9fb5-4f26-9ac6-de9bb12624a2",
   "metadata": {},
   "source": [
    "## Training loop"
   ]
  },
  {
   "cell_type": "code",
   "execution_count": 9,
   "id": "635de42d-5e83-4d3d-884c-b680f5bdffe5",
   "metadata": {},
   "outputs": [
    {
     "name": "stderr",
     "output_type": "stream",
     "text": [
      "100%|██████████████████████████████████████████████████████████████████████████████████████████████████████████████████████████████████████████████████████████████████████████| 500/500 [00:47<00:00, 10.56it/s]\n"
     ]
    }
   ],
   "source": [
    "t_accs, v_accs = [], []\n",
    "\n",
    "model.train()\n",
    "for _ in tqdm(range(N_EPOCHS)) :\n",
    "    train_acc = 0\n",
    "    for inp in train_dataloader :\n",
    "        inp = inp[0]\n",
    "        x, y, res = inp[:,0], inp[:,1], inp[:,2]\n",
    "        optimizer.zero_grad()\n",
    "\n",
    "        \n",
    "        pred = model(x, y)\n",
    "        \n",
    "        loss = criterion(pred, res)\n",
    "        loss.backward()\n",
    "        optimizer.step()\n",
    "\n",
    "        train_acc += (pred.argmax(dim=1) == res).sum().item()\n",
    "\n",
    "    t_accs.append(train_acc / len(train_dataset))\n",
    "    v_accs.append(validation_acc())"
   ]
  },
  {
   "cell_type": "code",
   "execution_count": 10,
   "id": "451bdc32-892f-4025-9ec3-9711e6dc3339",
   "metadata": {},
   "outputs": [
    {
     "data": {
      "image/png": "[encoded data removed]",
      "text/plain": [
       "<Figure size 640x480 with 1 Axes>"
      ]
     },
     "metadata": {},
     "output_type": "display_data"
    }
   ],
   "source": [
    "plt.plot(t_accs, label='Train')\n",
    "plt.plot(v_accs, label='Validation')\n",
    "plt.legend()\n",
    "plt.show()"
   ]
  },
  {
   "cell_type": "code",
   "execution_count": null,
   "id": "db3f3877-97c3-4294-ae03-ffe072d27e87",
   "metadata": {},
   "outputs": [],
   "source": []
  }
 ],
 "metadata": {
  "kernelspec": {
   "display_name": "Python 3 (ipykernel)",
   "language": "python",
   "name": "python3"
  },
  "language_info": {
   "codemirror_mode": {
    "name": "ipython",
    "version": 3
   },
   "file_extension": ".py",
   "mimetype": "text/x-python",
   "name": "python",
   "nbconvert_exporter": "python",
   "pygments_lexer": "ipython3",
   "version": "3.12.5"
  }
 },
 "nbformat": 4,
 "nbformat_minor": 5
}
